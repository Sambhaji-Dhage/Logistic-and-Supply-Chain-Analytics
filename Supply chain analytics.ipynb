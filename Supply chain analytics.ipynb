{
 "cells": [
  {
   "cell_type": "code",
   "execution_count": 1,
   "id": "9da3f6b1",
   "metadata": {},
   "outputs": [],
   "source": [
    "# import the libraries\n",
    "import pandas as pd\n",
    "import numpy as np"
   ]
  },
  {
   "cell_type": "code",
   "execution_count": 2,
   "id": "432b70f3",
   "metadata": {},
   "outputs": [],
   "source": [
    "# import datasets \n",
    "df_orders = pd.read_csv('orders_and_shipments.csv',encoding='ISO-8859-1')\n",
    "df_inventory = pd.read_csv('inventory.csv') \n",
    "df_fulfillment = pd.read_csv('fulfillment.csv')"
   ]
  },
  {
   "cell_type": "code",
   "execution_count": 3,
   "id": "fa42b553",
   "metadata": {},
   "outputs": [
    {
     "data": {
      "text/html": [
       "<div>\n",
       "<style scoped>\n",
       "    .dataframe tbody tr th:only-of-type {\n",
       "        vertical-align: middle;\n",
       "    }\n",
       "\n",
       "    .dataframe tbody tr th {\n",
       "        vertical-align: top;\n",
       "    }\n",
       "\n",
       "    .dataframe thead th {\n",
       "        text-align: right;\n",
       "    }\n",
       "</style>\n",
       "<table border=\"1\" class=\"dataframe\">\n",
       "  <thead>\n",
       "    <tr style=\"text-align: right;\">\n",
       "      <th></th>\n",
       "      <th>Order ID</th>\n",
       "      <th>Order Item ID</th>\n",
       "      <th>Order YearMonth</th>\n",
       "      <th>Order Year</th>\n",
       "      <th>Order Month</th>\n",
       "      <th>Order Day</th>\n",
       "      <th>Order Time</th>\n",
       "      <th>Order Quantity</th>\n",
       "      <th>Product Department</th>\n",
       "      <th>Product Category</th>\n",
       "      <th>...</th>\n",
       "      <th>Customer Country</th>\n",
       "      <th>Warehouse Country</th>\n",
       "      <th>Shipment Year</th>\n",
       "      <th>Shipment Month</th>\n",
       "      <th>Shipment Day</th>\n",
       "      <th>Shipment Mode</th>\n",
       "      <th>Shipment Days - Scheduled</th>\n",
       "      <th>Gross Sales</th>\n",
       "      <th>Discount %</th>\n",
       "      <th>Profit</th>\n",
       "    </tr>\n",
       "  </thead>\n",
       "  <tbody>\n",
       "    <tr>\n",
       "      <th>0</th>\n",
       "      <td>3535</td>\n",
       "      <td>8793</td>\n",
       "      <td>201502</td>\n",
       "      <td>2015</td>\n",
       "      <td>2</td>\n",
       "      <td>21</td>\n",
       "      <td>14:07</td>\n",
       "      <td>1</td>\n",
       "      <td>Fan Shop</td>\n",
       "      <td>Fishing</td>\n",
       "      <td>...</td>\n",
       "      <td>Mexico</td>\n",
       "      <td>Puerto Rico</td>\n",
       "      <td>2015</td>\n",
       "      <td>2</td>\n",
       "      <td>27</td>\n",
       "      <td>Standard Class</td>\n",
       "      <td>4</td>\n",
       "      <td>400</td>\n",
       "      <td>0.25</td>\n",
       "      <td>200</td>\n",
       "    </tr>\n",
       "    <tr>\n",
       "      <th>1</th>\n",
       "      <td>4133</td>\n",
       "      <td>10320</td>\n",
       "      <td>201503</td>\n",
       "      <td>2015</td>\n",
       "      <td>3</td>\n",
       "      <td>2</td>\n",
       "      <td>07:37</td>\n",
       "      <td>1</td>\n",
       "      <td>Fan Shop</td>\n",
       "      <td>Fishing</td>\n",
       "      <td>...</td>\n",
       "      <td>Brazil</td>\n",
       "      <td>Puerto Rico</td>\n",
       "      <td>2015</td>\n",
       "      <td>3</td>\n",
       "      <td>6</td>\n",
       "      <td>Standard Class</td>\n",
       "      <td>4</td>\n",
       "      <td>400</td>\n",
       "      <td>0.09</td>\n",
       "      <td>200</td>\n",
       "    </tr>\n",
       "    <tr>\n",
       "      <th>2</th>\n",
       "      <td>7396</td>\n",
       "      <td>18517</td>\n",
       "      <td>201504</td>\n",
       "      <td>2015</td>\n",
       "      <td>4</td>\n",
       "      <td>18</td>\n",
       "      <td>22:47</td>\n",
       "      <td>1</td>\n",
       "      <td>Fan Shop</td>\n",
       "      <td>Fishing</td>\n",
       "      <td>...</td>\n",
       "      <td>Mexico</td>\n",
       "      <td>Puerto Rico</td>\n",
       "      <td>2015</td>\n",
       "      <td>4</td>\n",
       "      <td>20</td>\n",
       "      <td>Standard Class</td>\n",
       "      <td>4</td>\n",
       "      <td>400</td>\n",
       "      <td>0.06</td>\n",
       "      <td>200</td>\n",
       "    </tr>\n",
       "    <tr>\n",
       "      <th>3</th>\n",
       "      <td>11026</td>\n",
       "      <td>27608</td>\n",
       "      <td>201506</td>\n",
       "      <td>2015</td>\n",
       "      <td>6</td>\n",
       "      <td>10</td>\n",
       "      <td>22:32</td>\n",
       "      <td>1</td>\n",
       "      <td>Fan Shop</td>\n",
       "      <td>Fishing</td>\n",
       "      <td>...</td>\n",
       "      <td>Denmark</td>\n",
       "      <td>Puerto Rico</td>\n",
       "      <td>2015</td>\n",
       "      <td>6</td>\n",
       "      <td>12</td>\n",
       "      <td>Standard Class</td>\n",
       "      <td>4</td>\n",
       "      <td>400</td>\n",
       "      <td>0.15</td>\n",
       "      <td>200</td>\n",
       "    </tr>\n",
       "    <tr>\n",
       "      <th>4</th>\n",
       "      <td>11026</td>\n",
       "      <td>27609</td>\n",
       "      <td>201506</td>\n",
       "      <td>2015</td>\n",
       "      <td>6</td>\n",
       "      <td>10</td>\n",
       "      <td>22:32</td>\n",
       "      <td>1</td>\n",
       "      <td>Fan Shop</td>\n",
       "      <td>Fishing</td>\n",
       "      <td>...</td>\n",
       "      <td>Denmark</td>\n",
       "      <td>Puerto Rico</td>\n",
       "      <td>2015</td>\n",
       "      <td>6</td>\n",
       "      <td>12</td>\n",
       "      <td>Standard Class</td>\n",
       "      <td>4</td>\n",
       "      <td>400</td>\n",
       "      <td>0.13</td>\n",
       "      <td>200</td>\n",
       "    </tr>\n",
       "  </tbody>\n",
       "</table>\n",
       "<p>5 rows × 24 columns</p>\n",
       "</div>"
      ],
      "text/plain": [
       "    Order ID    Order Item ID    Order YearMonth    Order Year   \\\n",
       "0        3535             8793             201502          2015   \n",
       "1        4133            10320             201503          2015   \n",
       "2        7396            18517             201504          2015   \n",
       "3       11026            27608             201506          2015   \n",
       "4       11026            27609             201506          2015   \n",
       "\n",
       "    Order Month    Order Day  Order Time  Order Quantity Product Department  \\\n",
       "0              2           21      14:07               1           Fan Shop   \n",
       "1              3            2      07:37               1           Fan Shop   \n",
       "2              4           18      22:47               1           Fan Shop   \n",
       "3              6           10      22:32               1           Fan Shop   \n",
       "4              6           10      22:32               1           Fan Shop   \n",
       "\n",
       "  Product Category  ... Customer Country  Warehouse Country Shipment Year  \\\n",
       "0          Fishing  ...           Mexico        Puerto Rico          2015   \n",
       "1          Fishing  ...           Brazil        Puerto Rico          2015   \n",
       "2          Fishing  ...           Mexico        Puerto Rico          2015   \n",
       "3          Fishing  ...          Denmark        Puerto Rico          2015   \n",
       "4          Fishing  ...          Denmark        Puerto Rico          2015   \n",
       "\n",
       "  Shipment Month Shipment Day   Shipment Mode   Shipment Days - Scheduled   \\\n",
       "0              2           27  Standard Class                            4   \n",
       "1              3            6  Standard Class                            4   \n",
       "2              4           20  Standard Class                            4   \n",
       "3              6           12  Standard Class                            4   \n",
       "4              6           12  Standard Class                            4   \n",
       "\n",
       "    Gross Sales    Discount %   Profit   \n",
       "0            400          0.25      200  \n",
       "1            400          0.09      200  \n",
       "2            400          0.06      200  \n",
       "3            400          0.15      200  \n",
       "4            400          0.13      200  \n",
       "\n",
       "[5 rows x 24 columns]"
      ]
     },
     "execution_count": 3,
     "metadata": {},
     "output_type": "execute_result"
    }
   ],
   "source": [
    "df_orders.head()"
   ]
  },
  {
   "cell_type": "code",
   "execution_count": 4,
   "id": "36a4ef49",
   "metadata": {},
   "outputs": [
    {
     "data": {
      "text/html": [
       "<div>\n",
       "<style scoped>\n",
       "    .dataframe tbody tr th:only-of-type {\n",
       "        vertical-align: middle;\n",
       "    }\n",
       "\n",
       "    .dataframe tbody tr th {\n",
       "        vertical-align: top;\n",
       "    }\n",
       "\n",
       "    .dataframe thead th {\n",
       "        text-align: right;\n",
       "    }\n",
       "</style>\n",
       "<table border=\"1\" class=\"dataframe\">\n",
       "  <thead>\n",
       "    <tr style=\"text-align: right;\">\n",
       "      <th></th>\n",
       "      <th>Product Name</th>\n",
       "      <th>Year Month</th>\n",
       "      <th>Warehouse Inventory</th>\n",
       "      <th>Inventory Cost Per Unit</th>\n",
       "    </tr>\n",
       "  </thead>\n",
       "  <tbody>\n",
       "    <tr>\n",
       "      <th>0</th>\n",
       "      <td>Perfect Fitness Perfect Rip Deck</td>\n",
       "      <td>201712</td>\n",
       "      <td>0</td>\n",
       "      <td>0.69517</td>\n",
       "    </tr>\n",
       "    <tr>\n",
       "      <th>1</th>\n",
       "      <td>Nike Men's Dri-FIT Victory Golf Polo</td>\n",
       "      <td>201712</td>\n",
       "      <td>2</td>\n",
       "      <td>1.29291</td>\n",
       "    </tr>\n",
       "    <tr>\n",
       "      <th>2</th>\n",
       "      <td>O'Brien Men's Neoprene Life Vest</td>\n",
       "      <td>201712</td>\n",
       "      <td>0</td>\n",
       "      <td>0.56531</td>\n",
       "    </tr>\n",
       "    <tr>\n",
       "      <th>3</th>\n",
       "      <td>Nike Men's Free 5.0+ Running Shoe</td>\n",
       "      <td>201712</td>\n",
       "      <td>1</td>\n",
       "      <td>1.26321</td>\n",
       "    </tr>\n",
       "    <tr>\n",
       "      <th>4</th>\n",
       "      <td>Under Armour Girls' Toddler Spine Surge Runni</td>\n",
       "      <td>201712</td>\n",
       "      <td>0</td>\n",
       "      <td>1.47648</td>\n",
       "    </tr>\n",
       "  </tbody>\n",
       "</table>\n",
       "</div>"
      ],
      "text/plain": [
       "                                    Product Name   Year Month   \\\n",
       "0               Perfect Fitness Perfect Rip Deck        201712   \n",
       "1           Nike Men's Dri-FIT Victory Golf Polo        201712   \n",
       "2               O'Brien Men's Neoprene Life Vest        201712   \n",
       "3              Nike Men's Free 5.0+ Running Shoe        201712   \n",
       "4  Under Armour Girls' Toddler Spine Surge Runni        201712   \n",
       "\n",
       "    Warehouse Inventory   Inventory Cost Per Unit  \n",
       "0                      0                  0.69517  \n",
       "1                      2                  1.29291  \n",
       "2                      0                  0.56531  \n",
       "3                      1                  1.26321  \n",
       "4                      0                  1.47648  "
      ]
     },
     "execution_count": 4,
     "metadata": {},
     "output_type": "execute_result"
    }
   ],
   "source": [
    "df_inventory.head()\n"
   ]
  },
  {
   "cell_type": "code",
   "execution_count": 5,
   "id": "54366b95",
   "metadata": {},
   "outputs": [
    {
     "data": {
      "text/html": [
       "<div>\n",
       "<style scoped>\n",
       "    .dataframe tbody tr th:only-of-type {\n",
       "        vertical-align: middle;\n",
       "    }\n",
       "\n",
       "    .dataframe tbody tr th {\n",
       "        vertical-align: top;\n",
       "    }\n",
       "\n",
       "    .dataframe thead th {\n",
       "        text-align: right;\n",
       "    }\n",
       "</style>\n",
       "<table border=\"1\" class=\"dataframe\">\n",
       "  <thead>\n",
       "    <tr style=\"text-align: right;\">\n",
       "      <th></th>\n",
       "      <th>Product Name</th>\n",
       "      <th>Warehouse Order Fulfillment (days)</th>\n",
       "    </tr>\n",
       "  </thead>\n",
       "  <tbody>\n",
       "    <tr>\n",
       "      <th>0</th>\n",
       "      <td>Perfect Fitness Perfect Rip Deck</td>\n",
       "      <td>8.3</td>\n",
       "    </tr>\n",
       "    <tr>\n",
       "      <th>1</th>\n",
       "      <td>Nike Men's Dri-FIT Victory Golf Polo</td>\n",
       "      <td>6.6</td>\n",
       "    </tr>\n",
       "    <tr>\n",
       "      <th>2</th>\n",
       "      <td>O'Brien Men's Neoprene Life Vest</td>\n",
       "      <td>5.5</td>\n",
       "    </tr>\n",
       "    <tr>\n",
       "      <th>3</th>\n",
       "      <td>Nike Men's Free 5.0+ Running Shoe</td>\n",
       "      <td>9.4</td>\n",
       "    </tr>\n",
       "    <tr>\n",
       "      <th>4</th>\n",
       "      <td>Under Armour Girls' Toddler Spine Surge Runni</td>\n",
       "      <td>6.3</td>\n",
       "    </tr>\n",
       "  </tbody>\n",
       "</table>\n",
       "</div>"
      ],
      "text/plain": [
       "                                    Product Name  \\\n",
       "0               Perfect Fitness Perfect Rip Deck   \n",
       "1           Nike Men's Dri-FIT Victory Golf Polo   \n",
       "2               O'Brien Men's Neoprene Life Vest   \n",
       "3              Nike Men's Free 5.0+ Running Shoe   \n",
       "4  Under Armour Girls' Toddler Spine Surge Runni   \n",
       "\n",
       "    Warehouse Order Fulfillment (days)   \n",
       "0                                   8.3  \n",
       "1                                   6.6  \n",
       "2                                   5.5  \n",
       "3                                   9.4  \n",
       "4                                   6.3  "
      ]
     },
     "execution_count": 5,
     "metadata": {},
     "output_type": "execute_result"
    }
   ],
   "source": [
    "df_fulfillment.head()"
   ]
  },
  {
   "cell_type": "code",
   "execution_count": 6,
   "id": "de415ea2",
   "metadata": {},
   "outputs": [
    {
     "data": {
      "text/plain": [
       " Order ID                      0\n",
       " Order Item ID                 0\n",
       " Order YearMonth               0\n",
       " Order Year                    0\n",
       " Order Month                   0\n",
       " Order Day                     0\n",
       "Order Time                     0\n",
       "Order Quantity                 0\n",
       "Product Department             0\n",
       "Product Category               0\n",
       "Product Name                   0\n",
       " Customer ID                   0\n",
       "Customer Market                0\n",
       "Customer Region                0\n",
       "Customer Country               0\n",
       "Warehouse Country              0\n",
       "Shipment Year                  0\n",
       "Shipment Month                 0\n",
       "Shipment Day                   0\n",
       "Shipment Mode                  0\n",
       " Shipment Days - Scheduled     0\n",
       " Gross Sales                   0\n",
       " Discount %                    0\n",
       " Profit                        0\n",
       "dtype: int64"
      ]
     },
     "execution_count": 6,
     "metadata": {},
     "output_type": "execute_result"
    }
   ],
   "source": [
    "df_orders.isna().sum()"
   ]
  },
  {
   "cell_type": "code",
   "execution_count": 7,
   "id": "9519c472",
   "metadata": {},
   "outputs": [
    {
     "data": {
      "text/plain": [
       "Product Name               0\n",
       " Year Month                0\n",
       " Warehouse Inventory       0\n",
       "Inventory Cost Per Unit    0\n",
       "dtype: int64"
      ]
     },
     "execution_count": 7,
     "metadata": {},
     "output_type": "execute_result"
    }
   ],
   "source": [
    "df_inventory.isna().sum()"
   ]
  },
  {
   "cell_type": "code",
   "execution_count": 8,
   "id": "b20a2d7e",
   "metadata": {},
   "outputs": [
    {
     "data": {
      "text/plain": [
       "Product Name                            0\n",
       " Warehouse Order Fulfillment (days)     0\n",
       "dtype: int64"
      ]
     },
     "execution_count": 8,
     "metadata": {},
     "output_type": "execute_result"
    }
   ],
   "source": [
    "df_fulfillment.isna().sum()"
   ]
  },
  {
   "cell_type": "code",
   "execution_count": 9,
   "id": "ae0d3d47",
   "metadata": {},
   "outputs": [
    {
     "data": {
      "text/plain": [
       "0"
      ]
     },
     "execution_count": 9,
     "metadata": {},
     "output_type": "execute_result"
    }
   ],
   "source": [
    "df_orders.duplicated().sum()"
   ]
  },
  {
   "cell_type": "code",
   "execution_count": 10,
   "id": "06ec261b",
   "metadata": {},
   "outputs": [
    {
     "data": {
      "text/plain": [
       "0"
      ]
     },
     "execution_count": 10,
     "metadata": {},
     "output_type": "execute_result"
    }
   ],
   "source": [
    "df_inventory.duplicated().sum()"
   ]
  },
  {
   "cell_type": "code",
   "execution_count": 11,
   "id": "9d4ad69b",
   "metadata": {},
   "outputs": [
    {
     "data": {
      "text/plain": [
       "0"
      ]
     },
     "execution_count": 11,
     "metadata": {},
     "output_type": "execute_result"
    }
   ],
   "source": [
    "df_fulfillment.duplicated().sum()"
   ]
  },
  {
   "cell_type": "code",
   "execution_count": 12,
   "id": "4de2c469",
   "metadata": {},
   "outputs": [
    {
     "name": "stdout",
     "output_type": "stream",
     "text": [
      "<class 'pandas.core.frame.DataFrame'>\n",
      "RangeIndex: 30871 entries, 0 to 30870\n",
      "Data columns (total 24 columns):\n",
      " #   Column                       Non-Null Count  Dtype \n",
      "---  ------                       --------------  ----- \n",
      " 0    Order ID                    30871 non-null  int64 \n",
      " 1    Order Item ID               30871 non-null  int64 \n",
      " 2    Order YearMonth             30871 non-null  int64 \n",
      " 3    Order Year                  30871 non-null  int64 \n",
      " 4    Order Month                 30871 non-null  int64 \n",
      " 5    Order Day                   30871 non-null  int64 \n",
      " 6   Order Time                   30871 non-null  object\n",
      " 7   Order Quantity               30871 non-null  int64 \n",
      " 8   Product Department           30871 non-null  object\n",
      " 9   Product Category             30871 non-null  object\n",
      " 10  Product Name                 30871 non-null  object\n",
      " 11   Customer ID                 30871 non-null  int64 \n",
      " 12  Customer Market              30871 non-null  object\n",
      " 13  Customer Region              30871 non-null  object\n",
      " 14  Customer Country             30871 non-null  object\n",
      " 15  Warehouse Country            30871 non-null  object\n",
      " 16  Shipment Year                30871 non-null  int64 \n",
      " 17  Shipment Month               30871 non-null  int64 \n",
      " 18  Shipment Day                 30871 non-null  int64 \n",
      " 19  Shipment Mode                30871 non-null  object\n",
      " 20   Shipment Days - Scheduled   30871 non-null  int64 \n",
      " 21   Gross Sales                 30871 non-null  int64 \n",
      " 22   Discount %                  30871 non-null  object\n",
      " 23   Profit                      30871 non-null  int64 \n",
      "dtypes: int64(14), object(10)\n",
      "memory usage: 5.7+ MB\n"
     ]
    }
   ],
   "source": [
    "df_orders.info()"
   ]
  },
  {
   "cell_type": "code",
   "execution_count": 13,
   "id": "53ce1d42",
   "metadata": {},
   "outputs": [
    {
     "name": "stdout",
     "output_type": "stream",
     "text": [
      "<class 'pandas.core.frame.DataFrame'>\n",
      "RangeIndex: 4200 entries, 0 to 4199\n",
      "Data columns (total 4 columns):\n",
      " #   Column                   Non-Null Count  Dtype  \n",
      "---  ------                   --------------  -----  \n",
      " 0   Product Name             4200 non-null   object \n",
      " 1    Year Month              4200 non-null   int64  \n",
      " 2    Warehouse Inventory     4200 non-null   int64  \n",
      " 3   Inventory Cost Per Unit  4200 non-null   float64\n",
      "dtypes: float64(1), int64(2), object(1)\n",
      "memory usage: 131.4+ KB\n"
     ]
    }
   ],
   "source": [
    "df_inventory.info()"
   ]
  },
  {
   "cell_type": "code",
   "execution_count": 14,
   "id": "f938f09d",
   "metadata": {},
   "outputs": [
    {
     "name": "stdout",
     "output_type": "stream",
     "text": [
      "<class 'pandas.core.frame.DataFrame'>\n",
      "RangeIndex: 118 entries, 0 to 117\n",
      "Data columns (total 2 columns):\n",
      " #   Column                                Non-Null Count  Dtype  \n",
      "---  ------                                --------------  -----  \n",
      " 0   Product Name                          118 non-null    object \n",
      " 1    Warehouse Order Fulfillment (days)   118 non-null    float64\n",
      "dtypes: float64(1), object(1)\n",
      "memory usage: 2.0+ KB\n"
     ]
    }
   ],
   "source": [
    "df_fulfillment.info()"
   ]
  },
  {
   "cell_type": "code",
   "execution_count": 15,
   "id": "35284de8",
   "metadata": {},
   "outputs": [],
   "source": [
    "# using strip fn removing unwanted spaces from columns name\n",
    "dataframes = [df_inventory, df_orders, df_fulfillment]\n",
    "\n",
    "for df in dataframes:\n",
    "  df.columns = df.columns.str.strip()"
   ]
  },
  {
   "cell_type": "code",
   "execution_count": 16,
   "id": "87e7af17",
   "metadata": {},
   "outputs": [
    {
     "data": {
      "text/plain": [
       "Index(['Order ID', 'Order Item ID', 'Order YearMonth', 'Order Year',\n",
       "       'Order Month', 'Order Day', 'Order Time', 'Order Quantity',\n",
       "       'Product Department', 'Product Category', 'Product Name', 'Customer ID',\n",
       "       'Customer Market', 'Customer Region', 'Customer Country',\n",
       "       'Warehouse Country', 'Shipment Year', 'Shipment Month', 'Shipment Day',\n",
       "       'Shipment Mode', 'Shipment Days - Scheduled', 'Gross Sales',\n",
       "       'Discount %', 'Profit'],\n",
       "      dtype='object')"
      ]
     },
     "execution_count": 16,
     "metadata": {},
     "output_type": "execute_result"
    }
   ],
   "source": [
    "df_orders.columns"
   ]
  },
  {
   "cell_type": "code",
   "execution_count": 17,
   "id": "1ec8fb2a",
   "metadata": {},
   "outputs": [
    {
     "data": {
      "text/plain": [
       "Index(['Product Name', 'Year Month', 'Warehouse Inventory',\n",
       "       'Inventory Cost Per Unit'],\n",
       "      dtype='object')"
      ]
     },
     "execution_count": 17,
     "metadata": {},
     "output_type": "execute_result"
    }
   ],
   "source": [
    "df_inventory.columns"
   ]
  },
  {
   "cell_type": "code",
   "execution_count": 18,
   "id": "9c5d1e7a",
   "metadata": {},
   "outputs": [
    {
     "data": {
      "text/plain": [
       "Index(['Product Name', 'Warehouse Order Fulfillment (days)'], dtype='object')"
      ]
     },
     "execution_count": 18,
     "metadata": {},
     "output_type": "execute_result"
    }
   ],
   "source": [
    "df_fulfillment.columns"
   ]
  },
  {
   "cell_type": "code",
   "execution_count": 20,
   "id": "010c130a",
   "metadata": {},
   "outputs": [
    {
     "data": {
      "text/plain": [
       "Index(['Order ID', 'Order Item ID', 'Order YearMonth', 'Order Year',\n",
       "       'Order Month', 'Order Day', 'Order Time', 'Order Quantity',\n",
       "       'Product Department', 'Product Category', 'Product Name', 'Customer ID',\n",
       "       'Customer Market', 'Customer Region', 'Customer Country',\n",
       "       'Warehouse Country', 'Shipment Year', 'Shipment Month', 'Shipment Day',\n",
       "       'Shipment Mode', 'Shipment Days - Scheduled', 'Gross Sales',\n",
       "       'Discount %', 'Profit'],\n",
       "      dtype='object')"
      ]
     },
     "execution_count": 20,
     "metadata": {},
     "output_type": "execute_result"
    }
   ],
   "source": [
    "df_orders.columns\n"
   ]
  },
  {
   "cell_type": "code",
   "execution_count": 21,
   "id": "37b7b449",
   "metadata": {},
   "outputs": [
    {
     "data": {
      "text/plain": [
       "17496      -  \n",
       "14080      0.2\n",
       "3057      0.18\n",
       "15745      0.2\n",
       "2993      0.02\n",
       "7869      0.05\n",
       "1934       -  \n",
       "9857      0.04\n",
       "15048     0.18\n",
       "28695     0.18\n",
       "15384     0.17\n",
       "17577     0.17\n",
       "13882     0.15\n",
       "24790     0.18\n",
       "20728     0.12\n",
       "12386     0.17\n",
       "28768     0.09\n",
       "7839       -  \n",
       "14998     0.15\n",
       "12742     0.25\n",
       "16382     0.09\n",
       "942       0.05\n",
       "25015     0.09\n",
       "19709     0.01\n",
       "968       0.02\n",
       "26409     0.02\n",
       "15645     0.03\n",
       "16103     0.07\n",
       "1561      0.03\n",
       "22379     0.01\n",
       "Name: Discount %, dtype: object"
      ]
     },
     "execution_count": 21,
     "metadata": {},
     "output_type": "execute_result"
    }
   ],
   "source": [
    "df_orders['Discount %'].sample(30)"
   ]
  },
  {
   "cell_type": "code",
   "execution_count": 22,
   "id": "0196d764",
   "metadata": {},
   "outputs": [],
   "source": [
    "# Convert the '-' values to 0 in the 'Discount %' column and then change the data type from object to float\n",
    "df_orders['Discount %'] = df_orders['Discount %'].replace('  -  ', 0).astype(float)"
   ]
  },
  {
   "cell_type": "code",
   "execution_count": 23,
   "id": "105c6a0a",
   "metadata": {},
   "outputs": [
    {
     "data": {
      "text/plain": [
       "Index(['Order ID', 'Order Item ID', 'Order YearMonth', 'Order Year',\n",
       "       'Order Month', 'Order Day', 'Order Time', 'Order Quantity',\n",
       "       'Product Department', 'Product Category', 'Product Name', 'Customer ID',\n",
       "       'Customer Market', 'Customer Region', 'Customer Country',\n",
       "       'Warehouse Country', 'Shipment Year', 'Shipment Month', 'Shipment Day',\n",
       "       'Shipment Mode', 'Shipment Days - Scheduled', 'Gross Sales',\n",
       "       'Discount %', 'Profit'],\n",
       "      dtype='object')"
      ]
     },
     "execution_count": 23,
     "metadata": {},
     "output_type": "execute_result"
    }
   ],
   "source": [
    "df_orders.columns"
   ]
  },
  {
   "cell_type": "code",
   "execution_count": 24,
   "id": "9fd7944c",
   "metadata": {},
   "outputs": [
    {
     "data": {
      "text/html": [
       "<div>\n",
       "<style scoped>\n",
       "    .dataframe tbody tr th:only-of-type {\n",
       "        vertical-align: middle;\n",
       "    }\n",
       "\n",
       "    .dataframe tbody tr th {\n",
       "        vertical-align: top;\n",
       "    }\n",
       "\n",
       "    .dataframe thead th {\n",
       "        text-align: right;\n",
       "    }\n",
       "</style>\n",
       "<table border=\"1\" class=\"dataframe\">\n",
       "  <thead>\n",
       "    <tr style=\"text-align: right;\">\n",
       "      <th></th>\n",
       "      <th>Order Datetime</th>\n",
       "      <th>Shipment Datetime</th>\n",
       "    </tr>\n",
       "  </thead>\n",
       "  <tbody>\n",
       "    <tr>\n",
       "      <th>0</th>\n",
       "      <td>2015-02-21 14:07:00</td>\n",
       "      <td>2015-02-27</td>\n",
       "    </tr>\n",
       "    <tr>\n",
       "      <th>1</th>\n",
       "      <td>2015-03-02 07:37:00</td>\n",
       "      <td>2015-03-06</td>\n",
       "    </tr>\n",
       "    <tr>\n",
       "      <th>2</th>\n",
       "      <td>2015-04-18 22:47:00</td>\n",
       "      <td>2015-04-20</td>\n",
       "    </tr>\n",
       "    <tr>\n",
       "      <th>3</th>\n",
       "      <td>2015-06-10 22:32:00</td>\n",
       "      <td>2015-06-12</td>\n",
       "    </tr>\n",
       "    <tr>\n",
       "      <th>4</th>\n",
       "      <td>2015-06-10 22:32:00</td>\n",
       "      <td>2015-06-12</td>\n",
       "    </tr>\n",
       "  </tbody>\n",
       "</table>\n",
       "</div>"
      ],
      "text/plain": [
       "       Order Datetime Shipment Datetime\n",
       "0 2015-02-21 14:07:00        2015-02-27\n",
       "1 2015-03-02 07:37:00        2015-03-06\n",
       "2 2015-04-18 22:47:00        2015-04-20\n",
       "3 2015-06-10 22:32:00        2015-06-12\n",
       "4 2015-06-10 22:32:00        2015-06-12"
      ]
     },
     "execution_count": 24,
     "metadata": {},
     "output_type": "execute_result"
    }
   ],
   "source": [
    "# Make new columns: Order Datetime and Shipment Datetime\n",
    "df_orders['Order Datetime'] = pd.to_datetime(df_orders['Order Year'].astype(str) + '-' + df_orders['Order Month'].astype(str) + '-' + df_orders['Order Day'].astype(str) + ' ' + df_orders['Order Time'])\n",
    "df_orders['Shipment Datetime'] = pd.to_datetime(df_orders['Shipment Year'].astype(str) + '-' + df_orders['Shipment Month'].astype(str) + '-' + df_orders['Shipment Day'].astype(str))\n",
    "\n",
    "# Displaying the result\n",
    "df_orders[['Order Datetime', 'Shipment Datetime']].head()"
   ]
  },
  {
   "cell_type": "code",
   "execution_count": 25,
   "id": "b149de78",
   "metadata": {},
   "outputs": [],
   "source": [
    "# Drop unnecessary columns\n",
    "df_orders.drop(columns=['Order Year', 'Order Month', 'Order Day', 'Order Time',\n",
    "                        'Shipment Year', 'Shipment Month', 'Shipment Day'], inplace=True)"
   ]
  },
  {
   "cell_type": "code",
   "execution_count": 26,
   "id": "844e04b4",
   "metadata": {},
   "outputs": [
    {
     "data": {
      "text/plain": [
       "array(['Mexico', 'Brazil', 'Denmark', 'Netherlands', 'Germany', 'China',\n",
       "       'Indonesia', 'Pakistan', 'India', 'USA', 'Hungary', 'Sudan',\n",
       "       'Democratic Republic of Congo', 'Poland', 'Togo', 'Guatemala',\n",
       "       'Panama', 'Chile', 'France', 'Sweden', 'Dominican\\xa0Republic',\n",
       "       'Venezuela', 'South Korea', 'Madagascar', 'Iran', 'Cuba',\n",
       "       'Nicaragua', 'United Kingdom', 'Afghanistan', 'Singapore',\n",
       "       'Morocco', 'Spain', 'Niger', 'Turkey', 'South Africa', 'Iraq',\n",
       "       'Honduras', 'Italy', 'Australia', 'Cote d\\x92Ivoire', 'Croatia',\n",
       "       'Ecuador', 'Syria', 'Haiti', 'Bangladesh', 'Argentina', 'Romania',\n",
       "       'El Salvador', 'Vietnam', 'Japan', 'Nigeria', 'Belarus',\n",
       "       'Uzbekistan', 'Egypt', 'Albania', 'Georgia', 'Cameroon',\n",
       "       'Colombia', 'New zealand', 'Canada', 'Thailand', 'Senegal',\n",
       "       'Russia', 'Perú', 'Algeria\\xa0', 'Ukraine', 'Belgium',\n",
       "       'Philippines', 'Austria', 'Uruguay', 'Malaysia', 'Hong Kong',\n",
       "       'Saudi Arabia', 'Switzerland', 'Ireland', 'Bulgaria', 'Zambia',\n",
       "       'Jamaica', 'Ghana', 'Yemen', 'Norway', 'Tanzania', 'Kazakhstan',\n",
       "       'Libya', 'Trinidad and Tobago', 'Finland', 'Portugal', 'Kenya',\n",
       "       'Jordania', 'Bolivia', 'Gabon', 'Angola', 'Myanmar', 'Mali', 'UAE',\n",
       "       'Bosnia and Herzegovina', 'Guinea', 'Cambodia', 'Papua New Guinea',\n",
       "       'Rwanda', 'Israel\\xa0', 'Guyana', 'Somalia', 'Barbados',\n",
       "       'Guadalupe', 'Kyrgyzstan', 'Benín', 'Tunisia', 'Lithuania',\n",
       "       'Montenegro', 'Costa Rica', 'Mozambique', 'Sri Lanka', 'Taiwan',\n",
       "       'Czech Republic (Czechia)', 'Lesotho', 'Mongolia', 'Macedonia',\n",
       "       'Zimbabwe', 'Liberia', 'Liban', 'Guinea-Bissau', 'Estonia',\n",
       "       'Azerbaijan', 'Moldova', 'Republic of Congo', 'Gambia',\n",
       "       'Mauritania', 'Belize', 'Qatar', 'Sierra Leona', 'Slovakia',\n",
       "       'Martinique', 'Uganda', 'Namibia', 'Paraguay', 'Oman',\n",
       "       'French Guiana', 'Nepal'], dtype=object)"
      ]
     },
     "execution_count": 26,
     "metadata": {},
     "output_type": "execute_result"
    }
   ],
   "source": [
    "df_orders['Customer Country'].unique()"
   ]
  },
  {
   "cell_type": "code",
   "execution_count": 27,
   "id": "2b69eceb",
   "metadata": {},
   "outputs": [
    {
     "data": {
      "text/plain": [
       "array(['Mexico', 'Brazil', 'Denmark', 'Netherlands', 'Germany', 'China',\n",
       "       'Indonesia', 'Pakistan', 'India', 'USA', 'Hungary', 'Sudan',\n",
       "       'Democratic Republic of Congo', 'Poland', 'Togo', 'Guatemala',\n",
       "       'Panama', 'Chile', 'France', 'Sweden', 'Dominican Republic',\n",
       "       'Venezuela', 'South Korea', 'Madagascar', 'Iran', 'Cuba',\n",
       "       'Nicaragua', 'United Kingdom', 'Afghanistan', 'Singapore',\n",
       "       'Morocco', 'Spain', 'Niger', 'Turkey', 'South Africa', 'Iraq',\n",
       "       'Honduras', 'Italy', 'Australia', 'Cote d Ivoire', 'Croatia',\n",
       "       'Ecuador', 'Syria', 'Haiti', 'Bangladesh', 'Argentina', 'Romania',\n",
       "       'El Salvador', 'Vietnam', 'Japan', 'Nigeria', 'Belarus',\n",
       "       'Uzbekistan', 'Egypt', 'Albania', 'Georgia', 'Cameroon',\n",
       "       'Colombia', 'New zealand', 'Canada', 'Thailand', 'Senegal',\n",
       "       'Russia', 'Peru', 'Algeria', 'Ukraine', 'Belgium', 'Philippines',\n",
       "       'Austria', 'Uruguay', 'Malaysia', 'Hong Kong', 'Saudi Arabia',\n",
       "       'Switzerland', 'Ireland', 'Bulgaria', 'Zambia', 'Jamaica', 'Ghana',\n",
       "       'Yemen', 'Norway', 'Tanzania', 'Kazakhstan', 'Libya',\n",
       "       'Trinidad and Tobago', 'Finland', 'Portugal', 'Kenya', 'Jordania',\n",
       "       'Bolivia', 'Gabon', 'Angola', 'Myanmar', 'Mali', 'UAE',\n",
       "       'Bosnia and Herzegovina', 'Guinea', 'Cambodia', 'Papua New Guinea',\n",
       "       'Rwanda', 'Israel', 'Guyana', 'Somalia', 'Barbados', 'Guadalupe',\n",
       "       'Kyrgyzstan', 'Benin', 'Tunisia', 'Lithuania', 'Montenegro',\n",
       "       'Costa Rica', 'Mozambique', 'Sri Lanka', 'Taiwan',\n",
       "       'Czech Republic (Czechia)', 'Lesotho', 'Mongolia', 'Macedonia',\n",
       "       'Zimbabwe', 'Liberia', 'Liban', 'Guinea-Bissau', 'Estonia',\n",
       "       'Azerbaijan', 'Moldova', 'Republic of Congo', 'Gambia',\n",
       "       'Mauritania', 'Belize', 'Qatar', 'Sierra Leona', 'Slovakia',\n",
       "       'Martinique', 'Uganda', 'Namibia', 'Paraguay', 'Oman',\n",
       "       'French Guiana', 'Nepal'], dtype=object)"
      ]
     },
     "execution_count": 27,
     "metadata": {},
     "output_type": "execute_result"
    }
   ],
   "source": [
    "#replace the special characters in the Customer Country column\n",
    "df_orders['Customer Country'] = df_orders['Customer Country'].replace({\n",
    "    'Dominican\\xa0Republic': 'Dominican Republic',\n",
    "    'Cote d\\x92Ivoire': 'Cote d Ivoire', # Added a comma at the end of this line\n",
    "    'Perú': 'Peru',\n",
    "    'Algeria\\xa0': 'Algeria',\n",
    "    'Israel\\xa0':'Israel',\n",
    "    'Benín': 'Benin'\n",
    "})\n",
    "df_orders['Customer Country'].unique()"
   ]
  },
  {
   "cell_type": "code",
   "execution_count": 28,
   "id": "9ca75de8",
   "metadata": {},
   "outputs": [
    {
     "data": {
      "text/html": [
       "<div>\n",
       "<style scoped>\n",
       "    .dataframe tbody tr th:only-of-type {\n",
       "        vertical-align: middle;\n",
       "    }\n",
       "\n",
       "    .dataframe tbody tr th {\n",
       "        vertical-align: top;\n",
       "    }\n",
       "\n",
       "    .dataframe thead th {\n",
       "        text-align: right;\n",
       "    }\n",
       "</style>\n",
       "<table border=\"1\" class=\"dataframe\">\n",
       "  <thead>\n",
       "    <tr style=\"text-align: right;\">\n",
       "      <th></th>\n",
       "      <th>Order ID</th>\n",
       "      <th>Order Item ID</th>\n",
       "      <th>Order YearMonth</th>\n",
       "      <th>Order Quantity</th>\n",
       "      <th>Product Department</th>\n",
       "      <th>Product Category</th>\n",
       "      <th>Product Name</th>\n",
       "      <th>Customer ID</th>\n",
       "      <th>Customer Market</th>\n",
       "      <th>Customer Region</th>\n",
       "      <th>Customer Country</th>\n",
       "      <th>Warehouse Country</th>\n",
       "      <th>Shipment Mode</th>\n",
       "      <th>Shipment Days - Scheduled</th>\n",
       "      <th>Gross Sales</th>\n",
       "      <th>Discount %</th>\n",
       "      <th>Profit</th>\n",
       "      <th>Order Datetime</th>\n",
       "      <th>Shipment Datetime</th>\n",
       "      <th>Order Processing Time</th>\n",
       "    </tr>\n",
       "  </thead>\n",
       "  <tbody>\n",
       "    <tr>\n",
       "      <th>7781</th>\n",
       "      <td>19838</td>\n",
       "      <td>49584</td>\n",
       "      <td>201510</td>\n",
       "      <td>1</td>\n",
       "      <td>Fan Shop</td>\n",
       "      <td>Camping &amp; Hiking</td>\n",
       "      <td>Diamondback Women's Serene Classic Comfort Bi</td>\n",
       "      <td>3215</td>\n",
       "      <td>Europe</td>\n",
       "      <td>Western Europe</td>\n",
       "      <td>Germany</td>\n",
       "      <td>USA</td>\n",
       "      <td>First Class</td>\n",
       "      <td>1</td>\n",
       "      <td>300</td>\n",
       "      <td>0.06</td>\n",
       "      <td>150</td>\n",
       "      <td>2015-10-17 13:47:00</td>\n",
       "      <td>2015-10-19</td>\n",
       "      <td>1</td>\n",
       "    </tr>\n",
       "    <tr>\n",
       "      <th>3135</th>\n",
       "      <td>6535</td>\n",
       "      <td>16337</td>\n",
       "      <td>201503</td>\n",
       "      <td>1</td>\n",
       "      <td>Apparel</td>\n",
       "      <td>Men's Footwear</td>\n",
       "      <td>Nike Men's CJ Elite 2 TD Football Cleat</td>\n",
       "      <td>1855</td>\n",
       "      <td>LATAM</td>\n",
       "      <td>South America</td>\n",
       "      <td>Brazil</td>\n",
       "      <td>USA</td>\n",
       "      <td>First Class</td>\n",
       "      <td>1</td>\n",
       "      <td>130</td>\n",
       "      <td>0.12</td>\n",
       "      <td>65</td>\n",
       "      <td>2015-03-06 02:21:00</td>\n",
       "      <td>2015-04-18</td>\n",
       "      <td>42</td>\n",
       "    </tr>\n",
       "    <tr>\n",
       "      <th>14575</th>\n",
       "      <td>47535</td>\n",
       "      <td>118833</td>\n",
       "      <td>201612</td>\n",
       "      <td>1</td>\n",
       "      <td>Golf</td>\n",
       "      <td>Shop By Sport</td>\n",
       "      <td>Under Armour Girls' Toddler Spine Surge Runni</td>\n",
       "      <td>3635</td>\n",
       "      <td>Africa</td>\n",
       "      <td>West Africa</td>\n",
       "      <td>Nigeria</td>\n",
       "      <td>USA</td>\n",
       "      <td>Standard Class</td>\n",
       "      <td>4</td>\n",
       "      <td>40</td>\n",
       "      <td>0.02</td>\n",
       "      <td>97</td>\n",
       "      <td>2016-12-29 17:11:00</td>\n",
       "      <td>2016-11-07</td>\n",
       "      <td>-53</td>\n",
       "    </tr>\n",
       "    <tr>\n",
       "      <th>2264</th>\n",
       "      <td>21963</td>\n",
       "      <td>54937</td>\n",
       "      <td>201511</td>\n",
       "      <td>3</td>\n",
       "      <td>Golf</td>\n",
       "      <td>Women's Apparel</td>\n",
       "      <td>Nike Men's Dri-FIT Victory Golf Polo</td>\n",
       "      <td>3617</td>\n",
       "      <td>Pacific Asia</td>\n",
       "      <td>Oceania</td>\n",
       "      <td>Australia</td>\n",
       "      <td>USA</td>\n",
       "      <td>Standard Class</td>\n",
       "      <td>4</td>\n",
       "      <td>150</td>\n",
       "      <td>0.00</td>\n",
       "      <td>125</td>\n",
       "      <td>2015-11-17 14:16:00</td>\n",
       "      <td>2015-11-21</td>\n",
       "      <td>3</td>\n",
       "    </tr>\n",
       "    <tr>\n",
       "      <th>2366</th>\n",
       "      <td>11591</td>\n",
       "      <td>28970</td>\n",
       "      <td>201508</td>\n",
       "      <td>2</td>\n",
       "      <td>Golf</td>\n",
       "      <td>Women's Apparel</td>\n",
       "      <td>Nike Men's Dri-FIT Victory Golf Polo</td>\n",
       "      <td>7672</td>\n",
       "      <td>Europe</td>\n",
       "      <td>Southern Europe</td>\n",
       "      <td>Italy</td>\n",
       "      <td>USA</td>\n",
       "      <td>Standard Class</td>\n",
       "      <td>4</td>\n",
       "      <td>100</td>\n",
       "      <td>0.25</td>\n",
       "      <td>125</td>\n",
       "      <td>2015-08-05 09:09:00</td>\n",
       "      <td>2016-08-05</td>\n",
       "      <td>365</td>\n",
       "    </tr>\n",
       "  </tbody>\n",
       "</table>\n",
       "</div>"
      ],
      "text/plain": [
       "       Order ID  Order Item ID  Order YearMonth  Order Quantity  \\\n",
       "7781      19838          49584           201510               1   \n",
       "3135       6535          16337           201503               1   \n",
       "14575     47535         118833           201612               1   \n",
       "2264      21963          54937           201511               3   \n",
       "2366      11591          28970           201508               2   \n",
       "\n",
       "      Product Department  Product Category  \\\n",
       "7781            Fan Shop  Camping & Hiking   \n",
       "3135             Apparel    Men's Footwear   \n",
       "14575               Golf     Shop By Sport   \n",
       "2264                Golf   Women's Apparel   \n",
       "2366                Golf   Women's Apparel   \n",
       "\n",
       "                                        Product Name  Customer ID  \\\n",
       "7781   Diamondback Women's Serene Classic Comfort Bi         3215   \n",
       "3135         Nike Men's CJ Elite 2 TD Football Cleat         1855   \n",
       "14575  Under Armour Girls' Toddler Spine Surge Runni         3635   \n",
       "2264            Nike Men's Dri-FIT Victory Golf Polo         3617   \n",
       "2366            Nike Men's Dri-FIT Victory Golf Polo         7672   \n",
       "\n",
       "      Customer Market  Customer Region Customer Country Warehouse Country  \\\n",
       "7781           Europe   Western Europe          Germany               USA   \n",
       "3135            LATAM    South America           Brazil               USA   \n",
       "14575          Africa      West Africa          Nigeria               USA   \n",
       "2264     Pacific Asia          Oceania        Australia               USA   \n",
       "2366           Europe  Southern Europe            Italy               USA   \n",
       "\n",
       "        Shipment Mode  Shipment Days - Scheduled  Gross Sales  Discount %  \\\n",
       "7781      First Class                          1          300        0.06   \n",
       "3135      First Class                          1          130        0.12   \n",
       "14575  Standard Class                          4           40        0.02   \n",
       "2264   Standard Class                          4          150        0.00   \n",
       "2366   Standard Class                          4          100        0.25   \n",
       "\n",
       "       Profit      Order Datetime Shipment Datetime  Order Processing Time  \n",
       "7781      150 2015-10-17 13:47:00        2015-10-19                      1  \n",
       "3135       65 2015-03-06 02:21:00        2015-04-18                     42  \n",
       "14575      97 2016-12-29 17:11:00        2016-11-07                    -53  \n",
       "2264      125 2015-11-17 14:16:00        2015-11-21                      3  \n",
       "2366      125 2015-08-05 09:09:00        2016-08-05                    365  "
      ]
     },
     "execution_count": 28,
     "metadata": {},
     "output_type": "execute_result"
    }
   ],
   "source": [
    "df_orders['Order Processing Time'] = (df_orders['Shipment Datetime'] - df_orders['Order Datetime']).dt.days\n",
    "df_orders['Order Processing Time'] = df_orders['Order Processing Time'].apply(lambda x: 0 if x == -1 else x)\n",
    "\n",
    "df_orders.sample(5)"
   ]
  },
  {
   "cell_type": "code",
   "execution_count": 29,
   "id": "a010ddde",
   "metadata": {},
   "outputs": [
    {
     "name": "stdout",
     "output_type": "stream",
     "text": [
      "<class 'pandas.core.frame.DataFrame'>\n",
      "RangeIndex: 30871 entries, 0 to 30870\n",
      "Data columns (total 20 columns):\n",
      " #   Column                     Non-Null Count  Dtype         \n",
      "---  ------                     --------------  -----         \n",
      " 0   Order ID                   30871 non-null  int64         \n",
      " 1   Order Item ID              30871 non-null  int64         \n",
      " 2   Order YearMonth            30871 non-null  int64         \n",
      " 3   Order Quantity             30871 non-null  int64         \n",
      " 4   Product Department         30871 non-null  object        \n",
      " 5   Product Category           30871 non-null  object        \n",
      " 6   Product Name               30871 non-null  object        \n",
      " 7   Customer ID                30871 non-null  int64         \n",
      " 8   Customer Market            30871 non-null  object        \n",
      " 9   Customer Region            30871 non-null  object        \n",
      " 10  Customer Country           30871 non-null  object        \n",
      " 11  Warehouse Country          30871 non-null  object        \n",
      " 12  Shipment Mode              30871 non-null  object        \n",
      " 13  Shipment Days - Scheduled  30871 non-null  int64         \n",
      " 14  Gross Sales                30871 non-null  int64         \n",
      " 15  Discount %                 30871 non-null  float64       \n",
      " 16  Profit                     30871 non-null  int64         \n",
      " 17  Order Datetime             30871 non-null  datetime64[ns]\n",
      " 18  Shipment Datetime          30871 non-null  datetime64[ns]\n",
      " 19  Order Processing Time      30871 non-null  int64         \n",
      "dtypes: datetime64[ns](2), float64(1), int64(9), object(8)\n",
      "memory usage: 4.7+ MB\n"
     ]
    }
   ],
   "source": [
    "# Final Check\n",
    "df_orders.info()"
   ]
  },
  {
   "cell_type": "code",
   "execution_count": 30,
   "id": "ea457e59",
   "metadata": {},
   "outputs": [
    {
     "name": "stdout",
     "output_type": "stream",
     "text": [
      "<class 'pandas.core.frame.DataFrame'>\n",
      "RangeIndex: 4200 entries, 0 to 4199\n",
      "Data columns (total 4 columns):\n",
      " #   Column                   Non-Null Count  Dtype  \n",
      "---  ------                   --------------  -----  \n",
      " 0   Product Name             4200 non-null   object \n",
      " 1   Year Month               4200 non-null   int64  \n",
      " 2   Warehouse Inventory      4200 non-null   int64  \n",
      " 3   Inventory Cost Per Unit  4200 non-null   float64\n",
      "dtypes: float64(1), int64(2), object(1)\n",
      "memory usage: 131.4+ KB\n"
     ]
    }
   ],
   "source": [
    "df_inventory.info()"
   ]
  },
  {
   "cell_type": "code",
   "execution_count": 31,
   "id": "3b89d7ec",
   "metadata": {},
   "outputs": [
    {
     "name": "stdout",
     "output_type": "stream",
     "text": [
      "<class 'pandas.core.frame.DataFrame'>\n",
      "RangeIndex: 118 entries, 0 to 117\n",
      "Data columns (total 2 columns):\n",
      " #   Column                              Non-Null Count  Dtype  \n",
      "---  ------                              --------------  -----  \n",
      " 0   Product Name                        118 non-null    object \n",
      " 1   Warehouse Order Fulfillment (days)  118 non-null    float64\n",
      "dtypes: float64(1), object(1)\n",
      "memory usage: 2.0+ KB\n"
     ]
    }
   ],
   "source": [
    "df_fulfillment.info()"
   ]
  },
  {
   "cell_type": "code",
   "execution_count": 32,
   "id": "8d317db4",
   "metadata": {},
   "outputs": [],
   "source": [
    "# Export DataFrames to CSV\n",
    "df_orders.to_csv('orders_and_shipment.csv', index=False)\n",
    "df_inventory.to_csv('inventory.csv', index=False)\n",
    "df_fulfillment.to_csv('fulfillment.csv', index=False)"
   ]
  },
  {
   "cell_type": "code",
   "execution_count": null,
   "id": "dd443711",
   "metadata": {},
   "outputs": [],
   "source": []
  }
 ],
 "metadata": {
  "kernelspec": {
   "display_name": "Python 3 (ipykernel)",
   "language": "python",
   "name": "python3"
  },
  "language_info": {
   "codemirror_mode": {
    "name": "ipython",
    "version": 3
   },
   "file_extension": ".py",
   "mimetype": "text/x-python",
   "name": "python",
   "nbconvert_exporter": "python",
   "pygments_lexer": "ipython3",
   "version": "3.11.5"
  }
 },
 "nbformat": 4,
 "nbformat_minor": 5
}
